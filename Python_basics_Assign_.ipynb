{
  "cells": [
    {
      "cell_type": "markdown",
      "metadata": {
        "id": "j8hX30ST0w3l"
      },
      "source": []
    },
    {
      "cell_type": "markdown",
      "metadata": {
        "id": "F7G_nsQX0yMb"
      },
      "source": [
        "PYTHON BASICS QUESTION\n",
        "\n",
        "\n",
        "1)  What is Python, and why is it popular:\n",
        "- Python is a high-level, interpreted programming language known for its simplicity and readability. It's popular because it's easy to learn, has a large community, and supports many libraries for different application.  \n",
        "\n",
        "2)  What is an interpreter in Python?\n",
        "- An interpreter reads and executes Python code line by line, translating it into machine code at runtime.\n",
        "\n",
        "3)  What are pre-defined keywords in Python:\n",
        "- Pre-defined keywords are reserved words in python that have special meanings, such as if, for, while, def, and return.\n",
        "\n",
        "4) Can keywords be used as variable names?\n",
        "- No, keywords cannot be used as variable names because they are reserved by the language for specific purposes.\n",
        "\n",
        "5) What is mutability in Python?\n",
        "- Mutability refers to whether an object can be changed after it's created. Mutable objects can be modified; immutable ones cannot.\n",
        "\n",
        "6) Why are lists mutable, but tuples are immutable?\n",
        "- Lists are designed for flexible, changeable collections, so they are mutable. Tuples are fixed and safer for data that shouldn't change, so they are immutable.\n",
        "\n",
        "7) What is the difference between “==” and “is” operators in Python?\n",
        "- == checks if values are equal, while IS checks if two variables point to the same object in memory.\n",
        "\n",
        "8)  What are logical operators in Python?\n",
        "- Logical operators are used to combined the conditional statement: AND, OR and NOT.\n",
        "\n",
        "9) What is type casting in Python?\n",
        "- Type casting is converting a variable from one data type to another, like turning and integer to a string.\n",
        "\n",
        "\n",
        "10) What is the difference between implicit and explicit type casting?\n",
        "- Implicit typecasting is automatically done by python. Explicit casting is done manually using funciton like int(), str(), etc.\n",
        "\n",
        "11) What is the purpose of conditional statements in Python?\n",
        " - Conditional statement controls the flow of program based on whether a condition is true or false.\n",
        "\n",
        "12) How does the elif statement work?\n",
        "- Elif lets you check multiple conditions one by one after an intial if condition. It runs the first true condition.\n",
        "\n",
        "13) What is the difference between for and while loops?\n",
        "- For loops are used when you know how many times to iterate. While loops are run as long as a condition is true.  \n",
        "\n",
        "\n",
        "14) Describe a scenario where a while loop is more suitable than a for loop.\n",
        "- A while loop is better when the number of iterations isn't known in advance, such as waiting for user input to be correct.\n",
        "\n"
      ]
    },
    {
      "cell_type": "code",
      "execution_count": null,
      "metadata": {
        "colab": {
          "background_save": true,
          "base_uri": "https://localhost:8080/"
        },
        "id": "z8ig57te4er2",
        "outputId": "6fed6c8e-d604-47fd-e520-3da24839b21d"
      },
      "outputs": [
        {
          "name": "stdout",
          "output_type": "stream",
          "text": [
            "Hello World\n",
            "NAME: Harsh\n",
            "AGE: 25\n",
            "Python Keywords:\n",
            "['False', 'None', 'True', 'and', 'as', 'assert', 'async', 'await', 'break', 'class', 'continue', 'def', 'del', 'elif', 'else', 'except', 'finally', 'for', 'from', 'global', 'if', 'import', 'in', 'is', 'lambda', 'nonlocal', 'not', 'or', 'pass', 'raise', 'return', 'try', 'while', 'with', 'yield']\n"
          ]
        }
      ],
      "source": [
        "# Write a Python program to print \"Hello, World!\n",
        "print (\"Hello World\")\n",
        "# Write a Python program that displays your name and age?\n",
        "name = \"Harsh\"\n",
        "Age = 25\n",
        "print(\"NAME:\", name)\n",
        "print(\"AGE:\", Age)\n",
        "# Write code to print all the pre-defined keywords in Python using the keyword library?\n",
        "import keyword\n",
        "print(\"Python Keywords:\")\n",
        "print(keyword.kwlist)\n",
        "#Write a program that checks if a given word is a Python keyword?\n",
        "import keyword\n",
        "word = input(\"Enter a word: \")\n",
        "if keyword.iskeyword(word):\n",
        "    print(f\"'{word}' is a Python keyword.\")\n",
        "else:\n",
        "    print(f\"'{word}' is not a Python keyword.\")\n"
      ]
    },
    {
      "cell_type": "code",
      "execution_count": null,
      "metadata": {
        "id": "UoUd9kapjNUP"
      },
      "outputs": [],
      "source": [
        "\n",
        "# Create a list and tuple in Python, and demonstrate how attempting to change an element works differently for each?\n",
        "my_list = [1, 2, 3]\n",
        "my_tuple = (1, 2, 3)\n",
        "\n",
        "#modify list\n",
        "my_list[0] = 100\n",
        "print(\"Modified list:\", my_list)\n",
        "try:\n",
        "      my_tuple[0] = 100\n",
        "except TypeError as e:\n",
        "      print(\"Error modifying tuple\", e)\n",
        "\n",
        "# Write a function to demonstrate the behavior of mutable and immutable arguments?\n",
        "\n",
        "def modify_list(lst):\n",
        "    lst.append(100)\n",
        "\n",
        "def modify_integer(n):\n",
        "    n += 10\n",
        "    return n\n",
        "\n",
        "my_list = [1, 2, 3]\n",
        "my_number = 5\n",
        "\n",
        "modify_list(my_list)\n",
        "new_number = modify_integer(my_number)\n",
        "\n",
        "print(\"Modified list (mutable):\", my_list)\n",
        "print(\"Original number (immutable):\", my_number)\n",
        "print(\"Returned modified number:\", new_number)\n",
        "\n"
      ]
    },
    {
      "cell_type": "code",
      "execution_count": null,
      "metadata": {
        "id": "J6xX559FnS97",
        "colab": {
          "base_uri": "https://localhost:8080/",
          "height": 111
        },
        "outputId": "dcd4640a-f913-4e97-be71-8282e9bb9b47"
      },
      "outputs": [
        {
          "output_type": "error",
          "ename": "IndentationError",
          "evalue": "unexpected indent (<ipython-input-2-cdfaba3d754e>, line 22)",
          "traceback": [
            "\u001b[0;36m  File \u001b[0;32m\"<ipython-input-2-cdfaba3d754e>\"\u001b[0;36m, line \u001b[0;32m22\u001b[0m\n\u001b[0;31m    str_list = ['1', '2', '3', '4']\u001b[0m\n\u001b[0m    ^\u001b[0m\n\u001b[0;31mIndentationError\u001b[0m\u001b[0;31m:\u001b[0m unexpected indent\n"
          ]
        }
      ],
      "source": [
        "\n",
        "# Write a program to demonstrate the use of logical operators?\n",
        "a = True\n",
        "b = False\n",
        "\n",
        "print(\"a and b\", a and b)\n",
        "print(\"a or b:\", a or b)\n",
        "print(\"not a:\", not a)\n",
        "\n",
        "#Write a Python program to convert user input from string to integer, float, and boolean types?\n",
        "\n",
        "user_input = input(\"Enter a value: \")\n",
        "\n",
        "int_val = int(user_input)\n",
        "float_val = float(user_input)\n",
        "bool_val = bool(user_input)\n",
        "\n",
        "print(\"Integer value:\", int_val)\n",
        "print(\"Float value:\", float_val)\n",
        "print(\"Boolean value:\", bool_val)\n",
        "\n",
        "# Write code to demonstrate type casting with list elements?\n",
        "    str_list = ['1', '2', '3', '4']\n",
        "    int_list = [int(i) for i in str_list]\n",
        "    print(\"String list:\", str_list)\n",
        "    print(\"Converted to int list:\", int_list)\n",
        "\n",
        "# Write a program that checks if a number is positive, negative, or zero?\n",
        "      num = float(input(\"Enter a number:\"))\n",
        "\n",
        "      if num > 0:\n",
        "          print(\"The number is positive.\")\n",
        "      elif num < 0:\n",
        "          print(\"The number is negative.\")\n",
        "      else:\n",
        "          print(\"The number is zero.\")\n",
        "\n",
        "#  Write a for loop to print numbers from 1 to 100?\n",
        "      for i in range(1, 101):\n",
        "       print(i)\n",
        "\n",
        "# Write a Python program to find the sum of all even numbers between 1 and 500?\n",
        "sum_even = 0\n",
        "for i in range(2, 100, 2):\n",
        "sum_even += i\n",
        "print(\"Sum of even numbers between 1 and 500:\", sum_even)\n",
        "\n",
        "# Write a program to reverse a string using a while loop?\n",
        "text = input(\"Enter a string:\")\n",
        "reversed_text = ''\n",
        "i = len(text) - 1\n",
        "\n",
        "while i >= 0:\n",
        "    reversed_text += text[i]\n",
        "    i -= 1\n",
        "\n",
        "\n",
        "# Write a Python program to calculate the factorial of a number provided by the user using a while loop?\n",
        "num = int(input(\"Enter a number:\"))\n",
        "factorial = 1\n",
        "i = 1\n",
        "\n",
        "while i <= num:\n",
        "      factorial *= i\n",
        "      i += 1\n",
        "      print(f\"Factorial of {num} is {factorial}\")\n",
        "\n",
        "\n"
      ]
    }
  ],
  "metadata": {
    "colab": {
      "provenance": []
    },
    "kernelspec": {
      "display_name": "Python 3",
      "name": "python3"
    },
    "language_info": {
      "name": "python"
    }
  },
  "nbformat": 4,
  "nbformat_minor": 0
}